{
 "cells": [
  {
   "cell_type": "markdown",
   "metadata": {},
   "source": [
    "# Classification of Handwritten digits\n",
    "> This code provides a simple example of a classification of images with handwritten digits (going from 0 to 9), using the KNN method from the scikit-learn library."
   ]
  },
  {
   "cell_type": "code",
   "execution_count": 2,
   "metadata": {},
   "outputs": [],
   "source": [
    "from sklearn import datasets\n",
    "import matplotlib.pyplot as plt\n",
    "from sklearn.neighbors import KNeighborsClassifier\n",
    "from sklearn.datasets import load_iris\n",
    "from sklearn.model_selection import train_test_split\n",
    "from sklearn.naive_bayes import GaussianNB\n",
    "import numpy as np\n",
    "from sklearn.metrics import accuracy_score, multilabel_confusion_matrix, ConfusionMatrixDisplay"
   ]
  },
  {
   "cell_type": "markdown",
   "metadata": {},
   "source": [
    "You will save all the relevant information in the variable <b>digits</b>. With the attribute <b>.target</b> you can access the labels (in this case the labels are numbers from 0 to 9 depending on what is written in the image). The attribute <b>.images</b> allows you to access to the images in their matrix form (8x8 pixels), while <b>.data</b> contains the flatten version, namely, the pixels in vector form (As you want to work with features, these are the ones that you need!).\n",
    "\n",
    "It can be convenient to look at the images (if you are using jupyter try, probably you are not going to be able to display the images, do not worry for that, just skip it)."
   ]
  },
  {
   "cell_type": "code",
   "execution_count": 2,
   "metadata": {},
   "outputs": [
    {
     "name": "stdout",
     "output_type": "stream",
     "text": [
      "Labels' size:  (1797,)\n",
      "Features' size:  (1797, 64)\n",
      "Images' size:  (1797, 8, 8)\n"
     ]
    },
    {
     "data": {
      "image/png": "[encoded data removed]",
      "text/plain": [
       "<Figure size 1440x720 with 10 Axes>"
      ]
     },
     "metadata": {
      "needs_background": "light"
     },
     "output_type": "display_data"
    }
   ],
   "source": [
    "# Set global random state\n",
    "np.random.seed(31415)\n",
    "\n",
    "# Load the dataset\n",
    "digits = datasets.load_digits()\n",
    "\n",
    "# Print the relevant information\n",
    "print(\"Labels' size: \", digits.target.shape) # One label (0, 1, 2, 3, 4, 5, 6, 7, 8 or 9) per subject\n",
    "print(\"Features' size: \", digits.data.shape) # [no. of subject, no. of features]\n",
    "print(\"Images' size: \", digits.images.shape) # [no. of subject, width, height]\n",
    "\n",
    "# Display samples of images\n",
    "fig = plt.figure(figsize=(20,10))\n",
    "\n",
    "for i in range(10):\n",
    "    a = fig.add_subplot(1, 10, i+1)\n",
    "    imgplot = plt.imshow(digits.images[i])\n"
   ]
  },
  {
   "cell_type": "markdown",
   "metadata": {},
   "source": [
    "Before starting with the machine learning, you want to correctly split your data. You need to obtain a training set of 80% of your original data and the rest for a testing set. You're goint to use <b>X</b> to save your features and <b>Y</b> for the labels.\n",
    "\n",
    "As you already saw in the previous images plots, your dataset comes in order (zero first, then a one, etc), therefore you need to shuffle your data before using it to train the ML method so that this does not influence the result. The shuffling should be among subjects, but you need to keep the features corresponding to a specific subject matching the label of the subject, therefore the shuffling shoud be made only by row (remember from your previous prints that the subjects are stored by row)"
   ]
  },
  {
   "cell_type": "code",
   "execution_count": 3,
   "metadata": {},
   "outputs": [
    {
     "name": "stdout",
     "output_type": "stream",
     "text": [
      "\u001b[1mData size\u001b[0m\n",
      "x train:  (1438, 64)\n",
      "y train:  (1438,)\n",
      "x test:  (359, 64)\n",
      "y test:  (359,)\n",
      "\n",
      "\n",
      "\u001b[1mFeature + label size\u001b[0m\n",
      "train:  (1438, 65)\n",
      "test:  (359, 65)\n",
      "\n",
      "\n",
      "\u001b[1mExamples before shuffling\u001b[0m\n",
      "train:\n",
      " [[ 0.  0.  0.  6. 13. 10.  0.  0.  0.  0.]\n",
      " [ 0.  0.  0.  0. 11. 16. 10.  0.  0.  1.]\n",
      " [ 0.  0.  0.  0.  3. 11. 16.  9.  0.  2.]\n",
      " [ 0.  0.  0.  7. 13. 13.  9.  0.  0.  3.]\n",
      " [ 0.  0.  0.  0.  2. 16.  4.  0.  0.  4.]]\n",
      "test:\n",
      " [[ 0.  0.  2. 12. 16. 13.  6.  0.  0.  3.]\n",
      " [ 0.  0.  0.  0. 12.  9.  0.  0.  0.  4.]\n",
      " [ 0.  0.  0.  5. 16. 16. 14.  1.  0.  5.]\n",
      " [ 0.  0.  0.  5. 13. 16. 12.  1.  0.  6.]\n",
      " [ 0.  0.  0.  3. 16.  2.  0.  0.  0.  7.]]\n",
      "\n",
      "\n",
      "\u001b[1mExamples after shuffling\u001b[0m\n",
      "shuffled train:\n",
      " [[ 0.  0.  0. 10. 15. 12.  3.  0.  0.  3.]\n",
      " [ 0.  0.  0.  3. 15. 16. 10.  1.  0.  6.]\n",
      " [ 0.  0.  0.  0. 10. 16. 12.  0.  0.  8.]\n",
      " [ 0.  0.  0.  0.  3. 15. 13.  0.  0.  1.]\n",
      " [ 0.  0.  0. 10. 16. 13.  3.  0.  0.  2.]]\n",
      "shuffled test:\n",
      " [[ 0.  0.  0.  7. 16. 16. 15.  0.  0.  0.]\n",
      " [ 0.  0.  0.  4. 15. 15. 12.  3.  0.  6.]\n",
      " [ 0.  0.  2. 13. 12.  9.  0.  0.  0.  2.]\n",
      " [ 0.  0.  3. 16. 15.  8.  7.  4.  0.  2.]\n",
      " [ 0.  0.  0. 11. 15.  8.  1.  0.  0.  5.]]\n"
     ]
    }
   ],
   "source": [
    "# Identify the number of samples and determine a treshold to split\n",
    "length_data = len(digits.data)\n",
    "split_data = round(length_data*0.8)\n",
    "\n",
    "# Split in training and testing sets\n",
    "X_train = digits.data[:split_data, :]\n",
    "X_test = digits.data[split_data:, :]\n",
    "Y_train = digits.target[:split_data]\n",
    "Y_test = digits.target[split_data:]\n",
    "\n",
    "print(\"\\033[1m\" + \"Data size\" + \"\\033[0m\")\n",
    "print(\"x train: \", X_train.shape)\n",
    "print(\"y train: \", Y_train.shape)\n",
    "print(\"x test: \", X_test.shape)\n",
    "print(\"y test: \", Y_test.shape)\n",
    "print(\"\\n\")\n",
    "\n",
    "# Concatenate features and labels to shuffle accordingly\n",
    "train = np.c_[X_train, Y_train]\n",
    "test = np.c_[X_test, Y_test]\n",
    "\n",
    "print(\"\\033[1m\" + \"Feature + label size\" + \"\\033[0m\")\n",
    "print(\"train: \", train.shape)\n",
    "print(\"test: \", test.shape)\n",
    "print(\"\\n\")\n",
    "\n",
    "print(\"\\033[1m\" + \"Examples before shuffling\" + \"\\033[0m\")\n",
    "print(\"train:\\n\", train[:5,55:])\n",
    "print(\"test:\\n\", test[:5,55:])\n",
    "print(\"\\n\")\n",
    "\n",
    "# Shuffle the data\n",
    "np.random.shuffle(train)\n",
    "np.random.shuffle(test)\n",
    "\n",
    "print(\"\\033[1m\" + \"Examples after shuffling\" + \"\\033[0m\")\n",
    "print(\"shuffled train:\\n\", train[:5,55:])\n",
    "print(\"shuffled test:\\n\", test[:5,55:])\n",
    "\n",
    "# Separate features and labels\n",
    "X_train = train[:,:-1]\n",
    "Y_train = train[:,-1]\n",
    "X_test = test[:,:-1]\n",
    "Y_test = test[:,-1]"
   ]
  },
  {
   "cell_type": "markdown",
   "metadata": {},
   "source": [
    "Now you are ready to start the training and testing. Remember that the training is made with the features (<b>X</b>) and labels (<b>Y</b>) corresponding to the training set, while the testing only requires the features (<b>X</b>) corresponding to the testing set, you do not provide the labels (<b>Y</b>) in this case as you don't want to give the correct answer to the method, it should guess!!."
   ]
  },
  {
   "cell_type": "code",
   "execution_count": 9,
   "metadata": {},
   "outputs": [],
   "source": [
    "# Define the ML method to use\n",
    "method = GaussianNB()\n",
    "X, Y = load_iris(return_X_y=True)\n",
    "X_train, X_test, Y_train, Y_test = train_test_split(X, Y, test_size=0.5, random_state=0)\n",
    "Y_pred = gnb.fit(X_train, Y_train).predict(X_test)\n",
    "\n",
    "method.fit(X_train, Y_train) # Train the method\n",
    "pred = method.predict(X_test) # Generate the predictions"
   ]
  },
  {
   "cell_type": "markdown",
   "metadata": {},
   "source": [
    "Until now you have your method trained and you made predictions using data that the method did not see before (the testing set). Now is time to test how good were your predictions. You stored your predictions in the variable <b>pred</b>, now let's compare with the actual results (<b>Y_test</b>) using some metrics.\n",
    "\n",
    "The confusion matrix you will display corresponds only to the label <b>0</b>. Plot by yourself the confusion matrices corresponding to the rest of the labels (this does not apply if you are using jupyter try, as it is not available, if this is the case replace the <b>ConfusionMatrixDisplay</b> command with a simple <b>print(cm)</b>, it is not visually pleasing but serves the purpose).\n",
    "\n",
    "<b>Hint:</b> The variable <b>cm</b> saves all the confusion matrices you need, you can access to each of them by indexing (<b>cm[index]</b>)"
   ]
  },
  {
   "cell_type": "code",
   "execution_count": 10,
   "metadata": {},
   "outputs": [
    {
     "name": "stdout",
     "output_type": "stream",
     "text": [
      "The accuracy is:  94.67 %\n"
     ]
    },
    {
     "ename": "ValueError",
     "evalue": "The number of FixedLocator locations (2), usually from a call to set_ticks, does not match the number of ticklabels (10).",
     "output_type": "error",
     "traceback": [
      "\u001b[1;31m---------------------------------------------------------------------------\u001b[0m",
      "\u001b[1;31mValueError\u001b[0m                                Traceback (most recent call last)",
      "\u001b[1;32m<ipython-input-10-362441db762d>\u001b[0m in \u001b[0;36m<module>\u001b[1;34m\u001b[0m\n\u001b[0;32m      9\u001b[0m disp = ConfusionMatrixDisplay(confusion_matrix=cm[0],\n\u001b[0;32m     10\u001b[0m                                  display_labels=[0., 1., 2., 3., 4., 5., 6., 7., 8., 9.])\n\u001b[1;32m---> 11\u001b[1;33m \u001b[0mdisp\u001b[0m\u001b[1;33m.\u001b[0m\u001b[0mplot\u001b[0m\u001b[1;33m(\u001b[0m\u001b[1;33m)\u001b[0m\u001b[1;33m\u001b[0m\u001b[1;33m\u001b[0m\u001b[0m\n\u001b[0m",
      "\u001b[1;32m~\\anaconda3\\lib\\site-packages\\sklearn\\utils\\validation.py\u001b[0m in \u001b[0;36minner_f\u001b[1;34m(*args, **kwargs)\u001b[0m\n\u001b[0;32m     70\u001b[0m                           FutureWarning)\n\u001b[0;32m     71\u001b[0m         \u001b[0mkwargs\u001b[0m\u001b[1;33m.\u001b[0m\u001b[0mupdate\u001b[0m\u001b[1;33m(\u001b[0m\u001b[1;33m{\u001b[0m\u001b[0mk\u001b[0m\u001b[1;33m:\u001b[0m \u001b[0marg\u001b[0m \u001b[1;32mfor\u001b[0m \u001b[0mk\u001b[0m\u001b[1;33m,\u001b[0m \u001b[0marg\u001b[0m \u001b[1;32min\u001b[0m \u001b[0mzip\u001b[0m\u001b[1;33m(\u001b[0m\u001b[0msig\u001b[0m\u001b[1;33m.\u001b[0m\u001b[0mparameters\u001b[0m\u001b[1;33m,\u001b[0m \u001b[0margs\u001b[0m\u001b[1;33m)\u001b[0m\u001b[1;33m}\u001b[0m\u001b[1;33m)\u001b[0m\u001b[1;33m\u001b[0m\u001b[1;33m\u001b[0m\u001b[0m\n\u001b[1;32m---> 72\u001b[1;33m         \u001b[1;32mreturn\u001b[0m \u001b[0mf\u001b[0m\u001b[1;33m(\u001b[0m\u001b[1;33m**\u001b[0m\u001b[0mkwargs\u001b[0m\u001b[1;33m)\u001b[0m\u001b[1;33m\u001b[0m\u001b[1;33m\u001b[0m\u001b[0m\n\u001b[0m\u001b[0;32m     73\u001b[0m     \u001b[1;32mreturn\u001b[0m \u001b[0minner_f\u001b[0m\u001b[1;33m\u001b[0m\u001b[1;33m\u001b[0m\u001b[0m\n\u001b[0;32m     74\u001b[0m \u001b[1;33m\u001b[0m\u001b[0m\n",
      "\u001b[1;32m~\\anaconda3\\lib\\site-packages\\sklearn\\metrics\\_plot\\confusion_matrix.py\u001b[0m in \u001b[0;36mplot\u001b[1;34m(self, include_values, cmap, xticks_rotation, values_format, ax)\u001b[0m\n\u001b[0;32m    118\u001b[0m \u001b[1;33m\u001b[0m\u001b[0m\n\u001b[0;32m    119\u001b[0m         \u001b[0mfig\u001b[0m\u001b[1;33m.\u001b[0m\u001b[0mcolorbar\u001b[0m\u001b[1;33m(\u001b[0m\u001b[0mself\u001b[0m\u001b[1;33m.\u001b[0m\u001b[0mim_\u001b[0m\u001b[1;33m,\u001b[0m \u001b[0max\u001b[0m\u001b[1;33m=\u001b[0m\u001b[0max\u001b[0m\u001b[1;33m)\u001b[0m\u001b[1;33m\u001b[0m\u001b[1;33m\u001b[0m\u001b[0m\n\u001b[1;32m--> 120\u001b[1;33m         ax.set(xticks=np.arange(n_classes),\n\u001b[0m\u001b[0;32m    121\u001b[0m                \u001b[0myticks\u001b[0m\u001b[1;33m=\u001b[0m\u001b[0mnp\u001b[0m\u001b[1;33m.\u001b[0m\u001b[0marange\u001b[0m\u001b[1;33m(\u001b[0m\u001b[0mn_classes\u001b[0m\u001b[1;33m)\u001b[0m\u001b[1;33m,\u001b[0m\u001b[1;33m\u001b[0m\u001b[1;33m\u001b[0m\u001b[0m\n\u001b[0;32m    122\u001b[0m                \u001b[0mxticklabels\u001b[0m\u001b[1;33m=\u001b[0m\u001b[0mdisplay_labels\u001b[0m\u001b[1;33m,\u001b[0m\u001b[1;33m\u001b[0m\u001b[1;33m\u001b[0m\u001b[0m\n",
      "\u001b[1;32m~\\anaconda3\\lib\\site-packages\\matplotlib\\artist.py\u001b[0m in \u001b[0;36mset\u001b[1;34m(self, **kwargs)\u001b[0m\n\u001b[0;32m   1111\u001b[0m         \u001b[1;32mif\u001b[0m \u001b[0mmove_color_to_start\u001b[0m\u001b[1;33m:\u001b[0m\u001b[1;33m\u001b[0m\u001b[1;33m\u001b[0m\u001b[0m\n\u001b[0;32m   1112\u001b[0m             \u001b[0mkwargs\u001b[0m \u001b[1;33m=\u001b[0m \u001b[1;33m{\u001b[0m\u001b[1;34m\"color\"\u001b[0m\u001b[1;33m:\u001b[0m \u001b[0mkwargs\u001b[0m\u001b[1;33m.\u001b[0m\u001b[0mpop\u001b[0m\u001b[1;33m(\u001b[0m\u001b[1;34m\"color\"\u001b[0m\u001b[1;33m)\u001b[0m\u001b[1;33m,\u001b[0m \u001b[1;33m**\u001b[0m\u001b[0mkwargs\u001b[0m\u001b[1;33m}\u001b[0m\u001b[1;33m\u001b[0m\u001b[1;33m\u001b[0m\u001b[0m\n\u001b[1;32m-> 1113\u001b[1;33m         \u001b[1;32mreturn\u001b[0m \u001b[0mself\u001b[0m\u001b[1;33m.\u001b[0m\u001b[0mupdate\u001b[0m\u001b[1;33m(\u001b[0m\u001b[0mkwargs\u001b[0m\u001b[1;33m)\u001b[0m\u001b[1;33m\u001b[0m\u001b[1;33m\u001b[0m\u001b[0m\n\u001b[0m\u001b[0;32m   1114\u001b[0m \u001b[1;33m\u001b[0m\u001b[0m\n\u001b[0;32m   1115\u001b[0m     \u001b[1;32mdef\u001b[0m \u001b[0mfindobj\u001b[0m\u001b[1;33m(\u001b[0m\u001b[0mself\u001b[0m\u001b[1;33m,\u001b[0m \u001b[0mmatch\u001b[0m\u001b[1;33m=\u001b[0m\u001b[1;32mNone\u001b[0m\u001b[1;33m,\u001b[0m \u001b[0minclude_self\u001b[0m\u001b[1;33m=\u001b[0m\u001b[1;32mTrue\u001b[0m\u001b[1;33m)\u001b[0m\u001b[1;33m:\u001b[0m\u001b[1;33m\u001b[0m\u001b[1;33m\u001b[0m\u001b[0m\n",
      "\u001b[1;32m~\\anaconda3\\lib\\site-packages\\matplotlib\\artist.py\u001b[0m in \u001b[0;36mupdate\u001b[1;34m(self, props)\u001b[0m\n\u001b[0;32m    996\u001b[0m                         raise AttributeError(f\"{type(self).__name__!r} object \"\n\u001b[0;32m    997\u001b[0m                                              f\"has no property {k!r}\")\n\u001b[1;32m--> 998\u001b[1;33m                     \u001b[0mret\u001b[0m\u001b[1;33m.\u001b[0m\u001b[0mappend\u001b[0m\u001b[1;33m(\u001b[0m\u001b[0mfunc\u001b[0m\u001b[1;33m(\u001b[0m\u001b[0mv\u001b[0m\u001b[1;33m)\u001b[0m\u001b[1;33m)\u001b[0m\u001b[1;33m\u001b[0m\u001b[1;33m\u001b[0m\u001b[0m\n\u001b[0m\u001b[0;32m    999\u001b[0m         \u001b[1;32mif\u001b[0m \u001b[0mret\u001b[0m\u001b[1;33m:\u001b[0m\u001b[1;33m\u001b[0m\u001b[1;33m\u001b[0m\u001b[0m\n\u001b[0;32m   1000\u001b[0m             \u001b[0mself\u001b[0m\u001b[1;33m.\u001b[0m\u001b[0mpchanged\u001b[0m\u001b[1;33m(\u001b[0m\u001b[1;33m)\u001b[0m\u001b[1;33m\u001b[0m\u001b[1;33m\u001b[0m\u001b[0m\n",
      "\u001b[1;32m~\\anaconda3\\lib\\site-packages\\matplotlib\\axes\\_base.py\u001b[0m in \u001b[0;36mwrapper\u001b[1;34m(self, *args, **kwargs)\u001b[0m\n\u001b[0;32m     61\u001b[0m \u001b[1;33m\u001b[0m\u001b[0m\n\u001b[0;32m     62\u001b[0m         \u001b[1;32mdef\u001b[0m \u001b[0mwrapper\u001b[0m\u001b[1;33m(\u001b[0m\u001b[0mself\u001b[0m\u001b[1;33m,\u001b[0m \u001b[1;33m*\u001b[0m\u001b[0margs\u001b[0m\u001b[1;33m,\u001b[0m \u001b[1;33m**\u001b[0m\u001b[0mkwargs\u001b[0m\u001b[1;33m)\u001b[0m\u001b[1;33m:\u001b[0m\u001b[1;33m\u001b[0m\u001b[1;33m\u001b[0m\u001b[0m\n\u001b[1;32m---> 63\u001b[1;33m             \u001b[1;32mreturn\u001b[0m \u001b[0mget_method\u001b[0m\u001b[1;33m(\u001b[0m\u001b[0mself\u001b[0m\u001b[1;33m)\u001b[0m\u001b[1;33m(\u001b[0m\u001b[1;33m*\u001b[0m\u001b[0margs\u001b[0m\u001b[1;33m,\u001b[0m \u001b[1;33m**\u001b[0m\u001b[0mkwargs\u001b[0m\u001b[1;33m)\u001b[0m\u001b[1;33m\u001b[0m\u001b[1;33m\u001b[0m\u001b[0m\n\u001b[0m\u001b[0;32m     64\u001b[0m \u001b[1;33m\u001b[0m\u001b[0m\n\u001b[0;32m     65\u001b[0m         \u001b[0mwrapper\u001b[0m\u001b[1;33m.\u001b[0m\u001b[0m__module__\u001b[0m \u001b[1;33m=\u001b[0m \u001b[0mowner\u001b[0m\u001b[1;33m.\u001b[0m\u001b[0m__module__\u001b[0m\u001b[1;33m\u001b[0m\u001b[1;33m\u001b[0m\u001b[0m\n",
      "\u001b[1;32m~\\anaconda3\\lib\\site-packages\\matplotlib\\cbook\\deprecation.py\u001b[0m in \u001b[0;36mwrapper\u001b[1;34m(*args, **kwargs)\u001b[0m\n\u001b[0;32m    449\u001b[0m                 \u001b[1;34m\"parameter will become keyword-only %(removal)s.\"\u001b[0m\u001b[1;33m,\u001b[0m\u001b[1;33m\u001b[0m\u001b[1;33m\u001b[0m\u001b[0m\n\u001b[0;32m    450\u001b[0m                 name=name, obj_type=f\"parameter of {func.__name__}()\")\n\u001b[1;32m--> 451\u001b[1;33m         \u001b[1;32mreturn\u001b[0m \u001b[0mfunc\u001b[0m\u001b[1;33m(\u001b[0m\u001b[1;33m*\u001b[0m\u001b[0margs\u001b[0m\u001b[1;33m,\u001b[0m \u001b[1;33m**\u001b[0m\u001b[0mkwargs\u001b[0m\u001b[1;33m)\u001b[0m\u001b[1;33m\u001b[0m\u001b[1;33m\u001b[0m\u001b[0m\n\u001b[0m\u001b[0;32m    452\u001b[0m \u001b[1;33m\u001b[0m\u001b[0m\n\u001b[0;32m    453\u001b[0m     \u001b[1;32mreturn\u001b[0m \u001b[0mwrapper\u001b[0m\u001b[1;33m\u001b[0m\u001b[1;33m\u001b[0m\u001b[0m\n",
      "\u001b[1;32m~\\anaconda3\\lib\\site-packages\\matplotlib\\axis.py\u001b[0m in \u001b[0;36m_set_ticklabels\u001b[1;34m(self, labels, fontdict, minor, **kwargs)\u001b[0m\n\u001b[0;32m   1791\u001b[0m         \u001b[1;32mif\u001b[0m \u001b[0mfontdict\u001b[0m \u001b[1;32mis\u001b[0m \u001b[1;32mnot\u001b[0m \u001b[1;32mNone\u001b[0m\u001b[1;33m:\u001b[0m\u001b[1;33m\u001b[0m\u001b[1;33m\u001b[0m\u001b[0m\n\u001b[0;32m   1792\u001b[0m             \u001b[0mkwargs\u001b[0m\u001b[1;33m.\u001b[0m\u001b[0mupdate\u001b[0m\u001b[1;33m(\u001b[0m\u001b[0mfontdict\u001b[0m\u001b[1;33m)\u001b[0m\u001b[1;33m\u001b[0m\u001b[1;33m\u001b[0m\u001b[0m\n\u001b[1;32m-> 1793\u001b[1;33m         \u001b[1;32mreturn\u001b[0m \u001b[0mself\u001b[0m\u001b[1;33m.\u001b[0m\u001b[0mset_ticklabels\u001b[0m\u001b[1;33m(\u001b[0m\u001b[0mlabels\u001b[0m\u001b[1;33m,\u001b[0m \u001b[0mminor\u001b[0m\u001b[1;33m=\u001b[0m\u001b[0mminor\u001b[0m\u001b[1;33m,\u001b[0m \u001b[1;33m**\u001b[0m\u001b[0mkwargs\u001b[0m\u001b[1;33m)\u001b[0m\u001b[1;33m\u001b[0m\u001b[1;33m\u001b[0m\u001b[0m\n\u001b[0m\u001b[0;32m   1794\u001b[0m \u001b[1;33m\u001b[0m\u001b[0m\n\u001b[0;32m   1795\u001b[0m     \u001b[1;33m@\u001b[0m\u001b[0mcbook\u001b[0m\u001b[1;33m.\u001b[0m\u001b[0m_make_keyword_only\u001b[0m\u001b[1;33m(\u001b[0m\u001b[1;34m\"3.2\"\u001b[0m\u001b[1;33m,\u001b[0m \u001b[1;34m\"minor\"\u001b[0m\u001b[1;33m)\u001b[0m\u001b[1;33m\u001b[0m\u001b[1;33m\u001b[0m\u001b[0m\n",
      "\u001b[1;32m~\\anaconda3\\lib\\site-packages\\matplotlib\\axis.py\u001b[0m in \u001b[0;36mset_ticklabels\u001b[1;34m(self, ticklabels, minor, **kwargs)\u001b[0m\n\u001b[0;32m   1712\u001b[0m             \u001b[1;31m# remove all tick labels, so only error for > 0 ticklabels\u001b[0m\u001b[1;33m\u001b[0m\u001b[1;33m\u001b[0m\u001b[1;33m\u001b[0m\u001b[0m\n\u001b[0;32m   1713\u001b[0m             \u001b[1;32mif\u001b[0m \u001b[0mlen\u001b[0m\u001b[1;33m(\u001b[0m\u001b[0mlocator\u001b[0m\u001b[1;33m.\u001b[0m\u001b[0mlocs\u001b[0m\u001b[1;33m)\u001b[0m \u001b[1;33m!=\u001b[0m \u001b[0mlen\u001b[0m\u001b[1;33m(\u001b[0m\u001b[0mticklabels\u001b[0m\u001b[1;33m)\u001b[0m \u001b[1;32mand\u001b[0m \u001b[0mlen\u001b[0m\u001b[1;33m(\u001b[0m\u001b[0mticklabels\u001b[0m\u001b[1;33m)\u001b[0m \u001b[1;33m!=\u001b[0m \u001b[1;36m0\u001b[0m\u001b[1;33m:\u001b[0m\u001b[1;33m\u001b[0m\u001b[1;33m\u001b[0m\u001b[0m\n\u001b[1;32m-> 1714\u001b[1;33m                 raise ValueError(\n\u001b[0m\u001b[0;32m   1715\u001b[0m                     \u001b[1;34m\"The number of FixedLocator locations\"\u001b[0m\u001b[1;33m\u001b[0m\u001b[1;33m\u001b[0m\u001b[0m\n\u001b[0;32m   1716\u001b[0m                     \u001b[1;34mf\" ({len(locator.locs)}), usually from a call to\"\u001b[0m\u001b[1;33m\u001b[0m\u001b[1;33m\u001b[0m\u001b[0m\n",
      "\u001b[1;31mValueError\u001b[0m: The number of FixedLocator locations (2), usually from a call to set_ticks, does not match the number of ticklabels (10)."
     ]
    },
    {
     "data": {
      "image/png": "[encoded data removed]",
      "text/plain": [
       "<Figure size 432x288 with 2 Axes>"
      ]
     },
     "metadata": {
      "needs_background": "light"
     },
     "output_type": "display_data"
    }
   ],
   "source": [
    "acc = accuracy_score(Y_test, pred) # accuracy\n",
    "cm = multilabel_confusion_matrix(Y_test, # confusion matrix per label\n",
    "                            pred,\n",
    "                            labels=[0., 1., 2., 3., 4., 5., 6., 7., 8., 9.])\n",
    "\n",
    "\n",
    "print(\"The accuracy is: \", round(acc*100, 2), \"%\")\n",
    "\n",
    "disp = ConfusionMatrixDisplay(confusion_matrix=cm[0],\n",
    "                                 display_labels=[0., 1., 2., 3., 4., 5., 6., 7., 8., 9.])\n",
    "disp.plot()"
   ]
  },
  {
   "cell_type": "markdown",
   "metadata": {},
   "source": [
    "You have a complete program that trains a ML method, makes predictions and evaluates them. Now you should try with different ML methods. The following methods are the ones expected:\n",
    "\n",
    "<b>Naive Bayes</b>:\n",
    "\n",
    "You can import it using <i>from sklearn.naive_bayes import GaussianNB</i> in the first cell\n",
    "\n",
    "You define the method using <i>GaussianNB()</i>\n",
    "    \n",
    "\n",
    "<b>CART</b>:\n",
    "\n",
    "Import with <i>from sklearn.tree import DecisionTreeClassifier</i>\n",
    "\n",
    "Define with <i>DecisionTreeClassifier(random_state=0)</i>\n",
    "\n",
    "In this case, after fitting the method (the training part) use <i>tree.plot_tree(method)</i> to visualize the tree.\n",
    "    \n",
    "\n",
    "<b>LDA</b>:\n",
    "\n",
    "Import with <i>from sklearn.discriminant_analysis import LinearDiscriminantAnalysis</i>\n",
    "\n",
    "Define with <i>LinearDiscriminantAnalysis()</i>"
   ]
  },
  {
   "cell_type": "markdown",
   "metadata": {},
   "source": [
    "When you finish use an extra markdown cell at the end to explain which method you think that provided the best result."
   ]
  },
  {
   "cell_type": "markdown",
   "metadata": {},
   "source": []
  }
 ],
 "metadata": {
  "kernelspec": {
   "display_name": "Python 3",
   "language": "python",
   "name": "python3"
  },
  "language_info": {
   "codemirror_mode": {
    "name": "ipython",
    "version": 3
   },
   "file_extension": ".py",
   "mimetype": "text/x-python",
   "name": "python",
   "nbconvert_exporter": "python",
   "pygments_lexer": "ipython3",
   "version": "3.8.5"
  }
 },
 "nbformat": 4,
 "nbformat_minor": 4
}

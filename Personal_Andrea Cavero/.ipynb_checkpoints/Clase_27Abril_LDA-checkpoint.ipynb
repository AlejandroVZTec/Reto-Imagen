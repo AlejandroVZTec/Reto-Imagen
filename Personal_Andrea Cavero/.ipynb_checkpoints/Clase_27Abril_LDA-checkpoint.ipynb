{
 "cells": [
  {
   "cell_type": "markdown",
   "metadata": {},
   "source": [
    "# Classification of Handwritten digits\n",
    "> This code provides a simple example of a classification of images with handwritten digits (going from 0 to 9), using the KNN method from the scikit-learn library."
   ]
  },
  {
   "cell_type": "code",
   "execution_count": 3,
   "metadata": {},
   "outputs": [],
   "source": [
    "from sklearn import datasets\n",
    "import matplotlib.pyplot as plt\n",
    "from sklearn.neighbors import KNeighborsClassifier\n",
    "from sklearn.discriminant_analysis import LinearDiscriminantAnalysis\n",
    "from sklearn.datasets import make_multilabel_classification\n",
    "import numpy as np\n",
    "from sklearn.metrics import accuracy_score, multilabel_confusion_matrix, ConfusionMatrixDisplay"
   ]
  },
  {
   "cell_type": "markdown",
   "metadata": {},
   "source": [
    "You will save all the relevant information in the variable <b>digits</b>. With the attribute <b>.target</b> you can access the labels (in this case the labels are numbers from 0 to 9 depending on what is written in the image). The attribute <b>.images</b> allows you to access to the images in their matrix form (8x8 pixels), while <b>.data</b> contains the flatten version, namely, the pixels in vector form (As you want to work with features, these are the ones that you need!).\n",
    "\n",
    "It can be convenient to look at the images (if you are using jupyter try, probably you are not going to be able to display the images, do not worry for that, just skip it)."
   ]
  },
  {
   "cell_type": "code",
   "execution_count": 4,
   "metadata": {},
   "outputs": [
    {
     "name": "stdout",
     "output_type": "stream",
     "text": [
      "Labels' size:  (1797,)\n",
      "Features' size:  (1797, 64)\n",
      "Images' size:  (1797, 8, 8)\n"
     ]
    },
    {
     "data": {
      "image/png": "[encoded data removed]",
      "text/plain": [
       "<Figure size 1440x720 with 10 Axes>"
      ]
     },
     "metadata": {
      "needs_background": "light"
     },
     "output_type": "display_data"
    }
   ],
   "source": [
    "# Set global random state\n",
    "np.random.seed(31415)\n",
    "\n",
    "# Load the dataset\n",
    "digits = datasets.load_digits()\n",
    "\n",
    "# Print the relevant information\n",
    "print(\"Labels' size: \", digits.target.shape) # One label (0, 1, 2, 3, 4, 5, 6, 7, 8 or 9) per subject\n",
    "print(\"Features' size: \", digits.data.shape) # [no. of subject, no. of features]\n",
    "print(\"Images' size: \", digits.images.shape) # [no. of subject, width, height]\n",
    "\n",
    "# Display samples of images\n",
    "fig = plt.figure(figsize=(20,10))\n",
    "\n",
    "for i in range(10):\n",
    "    a = fig.add_subplot(1, 10, i+1)\n",
    "    imgplot = plt.imshow(digits.images[i])\n"
   ]
  },
  {
   "cell_type": "markdown",
   "metadata": {},
   "source": [
    "Before starting with the machine learning, you want to correctly split your data. You need to obtain a training set of 80% of your original data and the rest for a testing set. You're goint to use <b>X</b> to save your features and <b>Y</b> for the labels.\n",
    "\n",
    "As you already saw in the previous images plots, your dataset comes in order (zero first, then a one, etc), therefore you need to shuffle your data before using it to train the ML method so that this does not influence the result. The shuffling should be among subjects, but you need to keep the features corresponding to a specific subject matching the label of the subject, therefore the shuffling shoud be made only by row (remember from your previous prints that the subjects are stored by row)"
   ]
  },
  {
   "cell_type": "code",
   "execution_count": 5,
   "metadata": {},
   "outputs": [
    {
     "name": "stdout",
     "output_type": "stream",
     "text": [
      "\u001b[1mData size\u001b[0m\n",
      "x train:  (1438, 64)\n",
      "y train:  (1438,)\n",
      "x test:  (359, 64)\n",
      "y test:  (359,)\n",
      "\n",
      "\n",
      "\u001b[1mFeature + label size\u001b[0m\n",
      "train:  (1438, 65)\n",
      "test:  (359, 65)\n",
      "\n",
      "\n",
      "\u001b[1mExamples before shuffling\u001b[0m\n",
      "train:\n",
      " [[ 0.  0.  0.  6. 13. 10.  0.  0.  0.  0.]\n",
      " [ 0.  0.  0.  0. 11. 16. 10.  0.  0.  1.]\n",
      " [ 0.  0.  0.  0.  3. 11. 16.  9.  0.  2.]\n",
      " [ 0.  0.  0.  7. 13. 13.  9.  0.  0.  3.]\n",
      " [ 0.  0.  0.  0.  2. 16.  4.  0.  0.  4.]]\n",
      "test:\n",
      " [[ 0.  0.  2. 12. 16. 13.  6.  0.  0.  3.]\n",
      " [ 0.  0.  0.  0. 12.  9.  0.  0.  0.  4.]\n",
      " [ 0.  0.  0.  5. 16. 16. 14.  1.  0.  5.]\n",
      " [ 0.  0.  0.  5. 13. 16. 12.  1.  0.  6.]\n",
      " [ 0.  0.  0.  3. 16.  2.  0.  0.  0.  7.]]\n",
      "\n",
      "\n",
      "\u001b[1mExamples after shuffling\u001b[0m\n",
      "shuffled train:\n",
      " [[ 0.  0.  0. 10. 15. 12.  3.  0.  0.  3.]\n",
      " [ 0.  0.  0.  3. 15. 16. 10.  1.  0.  6.]\n",
      " [ 0.  0.  0.  0. 10. 16. 12.  0.  0.  8.]\n",
      " [ 0.  0.  0.  0.  3. 15. 13.  0.  0.  1.]\n",
      " [ 0.  0.  0. 10. 16. 13.  3.  0.  0.  2.]]\n",
      "shuffled test:\n",
      " [[ 0.  0.  0.  7. 16. 16. 15.  0.  0.  0.]\n",
      " [ 0.  0.  0.  4. 15. 15. 12.  3.  0.  6.]\n",
      " [ 0.  0.  2. 13. 12.  9.  0.  0.  0.  2.]\n",
      " [ 0.  0.  3. 16. 15.  8.  7.  4.  0.  2.]\n",
      " [ 0.  0.  0. 11. 15.  8.  1.  0.  0.  5.]]\n"
     ]
    }
   ],
   "source": [
    "# Identify the number of samples and determine a treshold to split\n",
    "length_data = len(digits.data)\n",
    "split_data = round(length_data*0.8)\n",
    "\n",
    "# Split in training and testing sets\n",
    "X_train = digits.data[:split_data, :]\n",
    "X_test = digits.data[split_data:, :]\n",
    "Y_train = digits.target[:split_data]\n",
    "Y_test = digits.target[split_data:]\n",
    "\n",
    "print(\"\\033[1m\" + \"Data size\" + \"\\033[0m\")\n",
    "print(\"x train: \", X_train.shape)\n",
    "print(\"y train: \", Y_train.shape)\n",
    "print(\"x test: \", X_test.shape)\n",
    "print(\"y test: \", Y_test.shape)\n",
    "print(\"\\n\")\n",
    "\n",
    "# Concatenate features and labels to shuffle accordingly\n",
    "train = np.c_[X_train, Y_train]\n",
    "test = np.c_[X_test, Y_test]\n",
    "\n",
    "print(\"\\033[1m\" + \"Feature + label size\" + \"\\033[0m\")\n",
    "print(\"train: \", train.shape)\n",
    "print(\"test: \", test.shape)\n",
    "print(\"\\n\")\n",
    "\n",
    "print(\"\\033[1m\" + \"Examples before shuffling\" + \"\\033[0m\")\n",
    "print(\"train:\\n\", train[:5,55:])\n",
    "print(\"test:\\n\", test[:5,55:])\n",
    "print(\"\\n\")\n",
    "\n",
    "# Shuffle the data\n",
    "np.random.shuffle(train)\n",
    "np.random.shuffle(test)\n",
    "\n",
    "print(\"\\033[1m\" + \"Examples after shuffling\" + \"\\033[0m\")\n",
    "print(\"shuffled train:\\n\", train[:5,55:])\n",
    "print(\"shuffled test:\\n\", test[:5,55:])\n",
    "\n",
    "# Separate features and labels\n",
    "X_train = train[:,:-1]\n",
    "Y_train = train[:,-1]\n",
    "X_test = test[:,:-1]\n",
    "Y_test = test[:,-1]"
   ]
  },
  {
   "cell_type": "markdown",
   "metadata": {},
   "source": [
    "Now you are ready to start the training and testing. Remember that the training is made with the features (<b>X</b>) and labels (<b>Y</b>) corresponding to the training set, while the testing only requires the features (<b>X</b>) corresponding to the testing set, you do not provide the labels (<b>Y</b>) in this case as you don't want to give the correct answer to the method, it should guess!!."
   ]
  },
  {
   "cell_type": "code",
   "execution_count": 6,
   "metadata": {},
   "outputs": [],
   "source": [
    "# Define the ML method to use\n",
    "method = LinearDiscriminantAnalysis()\n",
    "\n",
    "method.fit(X_train, Y_train) # Train the method\n",
    "pred = method.predict(X_test) # Generate the predictions"
   ]
  },
  {
   "cell_type": "markdown",
   "metadata": {},
   "source": [
    "Until now you have your method trained and you made predictions using data that the method did not see before (the testing set). Now is time to test how good were your predictions. You stored your predictions in the variable <b>pred</b>, now let's compare with the actual results (<b>Y_test</b>) using some metrics.\n",
    "\n",
    "The confusion matrix you will display corresponds only to the label <b>0</b>. Plot by yourself the confusion matrices corresponding to the rest of the labels (this does not apply if you are using jupyter try, as it is not available, if this is the case replace the <b>ConfusionMatrixDisplay</b> command with a simple <b>print(cm)</b>, it is not visually pleasing but serves the purpose).\n",
    "\n",
    "<b>Hint:</b> The variable <b>cm</b> saves all the confusion matrices you need, you can access to each of them by indexing (<b>cm[index]</b>)"
   ]
  },
  {
   "cell_type": "code",
   "execution_count": 7,
   "metadata": {},
   "outputs": [
    {
     "name": "stdout",
     "output_type": "stream",
     "text": [
      "The accuracy is:  89.97 %\n",
      "[[[323   1]\n",
      "  [  1  34]]\n",
      "\n",
      " [[318   5]\n",
      "  [  8  28]]\n",
      "\n",
      " [[324   1]\n",
      "  [  3  31]]\n",
      "\n",
      " [[317   5]\n",
      "  [  6  31]]\n",
      "\n",
      " [[322   0]\n",
      "  [  4  33]]\n",
      "\n",
      " [[317   5]\n",
      "  [  0  37]]\n",
      "\n",
      " [[321   1]\n",
      "  [  1  36]]\n",
      "\n",
      " [[321   2]\n",
      "  [  1  35]]\n",
      "\n",
      " [[317   9]\n",
      "  [  7  26]]\n",
      "\n",
      " [[315   7]\n",
      "  [  5  32]]]\n"
     ]
    }
   ],
   "source": [
    "acc = accuracy_score(Y_test, pred) # accuracy\n",
    "cm = multilabel_confusion_matrix(Y_test, # confusion matrix per label\n",
    "                            pred,\n",
    "                            labels=[0., 1., 2., 3., 4., 5., 6., 7., 8., 9.])\n",
    "\n",
    "\n",
    "print(\"The accuracy is: \", round(acc*100, 2), \"%\")\n",
    "\n",
    "disp = ConfusionMatrixDisplay(confusion_matrix=cm[0],\n",
    "                                 display_labels=[0., 1., 2., 3., 4., 5., 6., 7., 8., 9.])\n",
    "print(cm)\n",
    "#disp.plot()"
   ]
  },
  {
   "cell_type": "markdown",
   "metadata": {},
   "source": [
    "You have a complete program that trains a ML method, makes predictions and evaluates them. Now you should try with different ML methods. The following methods are the ones expected:\n",
    "    \n",
    "\n",
    "<b>LDA</b>:\n",
    "\n",
    "Import with <i>from sklearn.discriminant_analysis import LinearDiscriminantAnalysis</i>\n",
    "\n",
    "Define with <i>LinearDiscriminantAnalysis()</i>\n",
    "<b>The accuracy is:  89.97 % </b>\n",
    "\n"
   ]
  },
  {
   "cell_type": "markdown",
   "metadata": {},
   "source": [
    "When you finish use an extra markdown cell at the end to explain which method you think that provided the best result."
   ]
  },
  {
   "cell_type": "markdown",
   "metadata": {},
   "source": []
  }
 ],
 "metadata": {
  "kernelspec": {
   "display_name": "Python 3",
   "language": "python",
   "name": "python3"
  },
  "language_info": {
   "codemirror_mode": {
    "name": "ipython",
    "version": 3
   },
   "file_extension": ".py",
   "mimetype": "text/x-python",
   "name": "python",
   "nbconvert_exporter": "python",
   "pygments_lexer": "ipython3",
   "version": "3.8.5"
  }
 },
 "nbformat": 4,
 "nbformat_minor": 4
}
